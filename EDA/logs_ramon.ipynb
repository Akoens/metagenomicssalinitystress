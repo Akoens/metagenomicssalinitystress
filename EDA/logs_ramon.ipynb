{
 "cells": [
  {
   "cell_type": "markdown",
   "id": "d822e5f8",
   "metadata": {},
   "source": [
    "**Table of contents**<a id='toc0_'></a>    \n",
    "- [Introductie](#toc1_1_)    \n",
    "  - [05-03-2025](#toc1_2_)    \n",
    "    - [Testing data maken](#toc1_2_1_)    \n",
    "  - [06-03-2025](#toc1_3_)    \n",
    "    - [Quality control](#toc1_3_1_)    \n",
    "\n",
    "<!-- vscode-jupyter-toc-config\n",
    "\tnumbering=false\n",
    "\tanchor=true\n",
    "\tflat=false\n",
    "\tminLevel=1\n",
    "\tmaxLevel=6\n",
    "\t/vscode-jupyter-toc-config -->\n",
    "<!-- THIS CELL WILL BE REPLACED ON TOC UPDATE. DO NOT WRITE YOUR TEXT IN THIS CELL -->"
   ]
  },
  {
   "cell_type": "markdown",
   "id": "ed1e7835",
   "metadata": {},
   "source": [
    "## <a id='toc1_1_'></a>[Introductie](#toc0_)\n",
    "blablabla"
   ]
  },
  {
   "cell_type": "markdown",
   "id": "241ff025",
   "metadata": {},
   "source": [
    "## <a id='toc1_2_'></a>[05-03-2025](#toc0_)\n",
    "### <a id='toc1_2_1_'></a>[Testing data maken](#toc0_)\n",
    "Om commands te testen zonder dat deze lang duren heb ik test-subsets gemaakt van de data\n",
    "```{shell}\n",
    "cat /students/2024-2025/Thema07/metagenomics/zoutstress/sample_info/{sample} | \\\n",
    "    parallel \"seqkit {sample} -p 0.1 {} | seqkit head -n 100000 > /students/2024-2025/Thema07/metagenomics/zoutstress/testing_data/{sample}\n",
    "```\n",
    "\n",
    "de testing_data folder bevat nu subsets van de data waar tools op kunnen worden getest"
   ]
  },
  {
   "cell_type": "markdown",
   "metadata": {},
   "source": [
    "## <a id='toc1_3_'></a>[06-03-2025](#toc0_)\n",
    "### <a id='toc1_3_1_'></a>[Quality control](#toc0_)\n",
    "\n",
    "Bij illumina data gebruiken wij fastqc om de kwaliteit van de sequences te bepalen.\n",
    "Omdat minion net anders werkt, zijn hier ook andere tools voor.\n",
    "Wij hebben gekozen voor [NanoPlot:1.44.1](https://github.com/wdecoster/NanoPlot), deze werd aangeraden op meerdere bioinformatica forums.\n",
    "\n",
    "Deze is gedownload voor het testen met het volgende command:\n",
    "```{shell}\n",
    "conda install -c bioconda nanoplot\n",
    "```\n",
    "Nu kan NanoPlot gebruikt worden om de kwaliteit van de sequenties te bepalen.\n",
    "\n",
    "```{shell}\n",
    "find /students/2024-2025/Thema07/metagenomics/zoutstress/testing_data/ -type d -wholename '*rep*' | \\\n",
    "    parallel 'type_seq=$(basename $(dirname {}));' \\\n",
    "        'sample_name=$(basename {});' \\\n",
    "        'NanoPlot --fastq {}/*fastq.gz -o /students/2024-2025/Thema07/metagenomics/zoutstress/testing/NanoPlot/$type_seq/$sample_name/'\n",
    "```\n",
    "Geeft de volgende error:\n",
    "```\n",
    "    raise self._exception\n",
    "gzip.BadGzipFile: Not a gzipped file (b'@d')\n",
    "```\n",
    "Dit houd in dat ondanks dat de bestanden op .gz eindigen, ze niet gzipped zijn.\n",
    "Dit kan opgelost worden door .gz achter de naam weg te halen.\n",
    "rename -n 's/.fastq.gz/.fastq/'\n",
    "\n",
    "```{shell}\n",
    "find /students/2024-2025/Thema07/metagenomics/zoutstress/testing_data/ -type d -wholename '*rep*' | \\\n",
    "    parallel 'rename \"s/.fastq.gz/.fastq/\" {}/*.fastq.gz'\n",
    "```\n",
    "\n",
    "Nu zijn alle .gz extensies weg.\n",
    "\n",
    "```{shell}\n",
    "find /students/2024-2025/Thema07/metagenomics/zoutstress/testing_data/ -type d -wholename '*rep*' | \\\n",
    "    parallel 'type_seq=$(basename $(dirname {}));' \\\n",
    "        'sample_name=$(basename {});' \\\n",
    "        'NanoPlot -p \"${type_seq}_${sample_name}_\" --fastq {}/*.fastq' \\ \n",
    "            '-o /students/2024-2025/Thema07/metagenomics/zoutstress/testing/NanoPlot/'\n",
    "```\n",
    "\n",
    "Dit genereerd voor alle samples (zoet/zout) en type sequencing (16s/wgs) een html bestand met informatie over de kwaliteit.\n",
    "Omdat er aardig wat resulteren de bestanden zijn, ga ik deze samenvoegen tot 1 html bestand met Multiqc\n",
    "\n",
    "```{shell}\n",
    "multiqc /students/2024-2025/Thema07/metagenomics/zoutstress/testing/NanoPlot/* -o /students/2024-2025/Thema07/metagenomics/zoutstress/testing/Multiqc\n",
    "```\n",
    "\n",
    "Het resulterende html bestand bevat niet veel informatie.\n",
    "Daarom gaan we voor het trimmen eerst kijken naar de losse html bestanden, gemaakt door NanoPlot\n",
    "\n",
    "Als we kijken naar de kwaliteit van de 16s samples zien we het volgende:\n",
    "Een gemiddelde read lengte van ~730.\n",
    "Een gemiddelde read kwaliteit van ~12.7\n",
    "\n",
    "Dit is een best lage kwaliteit, wat verwacht kan worden als sequencing met een minIon gedaan wordt.\n",
    "\n",
    "Voor WGS zien we het volgende:\n",
    "Gemiddelde read lengte van 1000-1100, behalve bij 1: 761\n",
    "Gemiddelde kwaliteit van 10.4-11.1, behalve bij 1: 12.2\n",
    "\n",
    "We moeten de reads nog trimmen om een hogere score te krijgen\n",
    "Ik ga nanoplot en multiqc op de echte data uitvoeren wanneer deze gefixed zijn, er staat nog .gz achter.\n"
   ]
  }
 ],
 "metadata": {
  "kernelspec": {
   "display_name": "Python 3",
   "language": "python",
   "name": "python3"
  },
  "language_info": {
   "codemirror_mode": {
    "name": "ipython",
    "version": 2
   },
   "file_extension": ".py",
   "mimetype": "text/x-python",
   "name": "python",
   "nbconvert_exporter": "python",
   "pygments_lexer": "ipython2",
   "version": "2.7.6"
  }
 },
 "nbformat": 4,
 "nbformat_minor": 5
}
