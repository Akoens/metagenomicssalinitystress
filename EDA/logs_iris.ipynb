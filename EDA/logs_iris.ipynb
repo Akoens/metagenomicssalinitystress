{
 "cells": [
  {
   "cell_type": "markdown",
   "metadata": {},
   "source": [
    "### 5 mrt\n",
    "Uitgezocht welke tool we moeten gebruiken om quality controle uit te voeren op de minion data. Fastqc schijnt niet goed te werken op minion data, dus we gaan Nanoplot gebruiken. deze is te installeren via conda: `conda install -c bioconda nanoplot`\n",
    "\n",
    "!To do:\n",
    "- data verkennen\n",
    "- inlezen nanoplot"
   ]
  },
  {
   "cell_type": "markdown",
   "metadata": {},
   "source": [
    "### 11 mrt\n",
    "Martijn heeft uitgelegd wat de bedoeling nu is. We gaan alle drie een andere tool (ik zoek kraken2 uit) gebruiken om het bicrobioom te bepalen en de resultaten daarvan vervolgens met elkaar vergelijken."
   ]
  },
  {
   "cell_type": "markdown",
   "metadata": {},
   "source": [
    "## 12 mrt\n",
    "kraen2 installeren in conda: `conda install -c bioconda kraken2`\n",
    "database uitzoeken: \\\n",
    "[16S_Greengenes: Archaea and Bacteria](https://pmc.ncbi.nlm.nih.gov/articles/PMC1489311/) \\\n",
    "[16S silvia: Bacteria, Archaea and Eukarya](https://www.arb-silva.de/)\n",
    "\n",
    "16S lijkt uitgebreider, dus deze gaan we gebruiken.\n",
    "\n",
    "commando: \\\n",
    "kraken2 : start kraken2 \\\n",
    "--db /data/datasets/16S_Silva : de database die we gebruiken \\\n",
    "--threads 8 : threads \\\n",
    "--use-names : gebruikt de wetenschappelijke namen ipv taxids(cijfers)\n",
    "--report kraken2_report.txt : samenvatting rapport \\\n",
    "--output kraken2_output.txt : de output per read \\\n",
    "/commons/Themas/Thema07/metagenomics/zoutstress/16S/.. : input (seq data)\n",
    "\n",
    "de input moet via een loop ingevuld worden: \\\n",
    "de mappen zijn: \\\n",
    "zoet_20_30cm_rep1  zoet_20_30cm_rep2  zout_20_30cm_rep1  zout_20_30cm_rep2 \\\n",
    "met daarin: \\ \n",
    "FAY08769_pass_barcode07_85e26567_1cef8301_N.fastq.gz (waarin N een int is)\n",
    "\n",
    "Maar omdat ze overlappingen hebben moeten ze in aparte mappen blijven.\n",
    "\n",
    "Dus per map uitvoeren. acc_list.txt maken daarvoor."
   ]
  },
  {
   "cell_type": "markdown",
   "metadata": {},
   "source": [
    "Voor wgs gaan we een apart commando maken. \\\n",
    "[database](https://benlangmead.github.io/aws-indexes/k2) uitzoeken voor wgs:\n",
    "- k2_core_nt : Very large collection, inclusive of GenBank, RefSeq, TPA and PDB\n",
    "- k2_pluspf : Standard plus Refeq protozoa & fungi\n",
    "- k2_pluspfp : Standard plus Refeq protozoa, fungi & plant\n",
    "- k2_standard : Refeq archaea, bacteria, viral, plasmid, human1, UniVec_Core\n",
    "\n",
    "Aangezien ze allemaal al op het systeem staan (ivm opslag ruimte) gebruiken we de meest volledige: k2_pluspfp."
   ]
  },
  {
   "cell_type": "markdown",
   "metadata": {},
   "source": [
    "### 13 mrt\n",
    "Met behulp van Ramon mappen probleem opgelost: \\\n",
    "`find /students/2024-2025/Thema07/metagenomics/zoutstress/testing_data/ -type d -wholename '*rep*' |` \\\n",
    "Omdat de mappen in bestanden zijn veranderd, moeten we nu `-type f -name` gebruiken ipv `-type d -wholename`.\n",
    "\n",
    "\n",
    "### 14 mrt\n",
    "[Kraken2](https://software.cqls.oregonstate.edu/updates/docs/kraken2/MANUAL.html) wil op een andere manier de input bestanden krijgen: \\\n",
    "Dus voor 16S: \\\n",
    "`kraken2 --db /data/datasets/16S_Silva --threads 8  --use-names --report kraken2_report.txt --output kraken2_16S_output.txt /students/2024-2025/Thema07/metagenomics/zoutstress/data/16S/*rep*.fastq`\n",
    "\n",
    "En voor WGS: \\\n",
    "`kraken2 --db /data/datasets/k2_pluspfp --threads 8  --use-names --report kraken2_report.txt --output kraken2_WGS_output.txt /students/2024-2025/Thema07/metagenomics/zoutstress/data/WGS/*rep*.fastq`"
   ]
  },
  {
   "cell_type": "markdown",
   "metadata": {},
   "source": [
    "Nu moeten we er alleen nog voor zorgen dat de bestanden gescheiden blijven. \\\n",
    "Dus voor 16S: \\\n",
    "`find /students/2024-2025/Thema07/metagenomics/zoutstress/data/16S/ -name '*rep*.fastq' | \\\n",
    "    parallel 'kraken2 --db /data/datasets/KRAKEN2_INDEX/16S_Silva --threads 8 --use-names \\\n",
    "    --report /homes/ieineke/metagenomicssalinitystress/kraken2_16S/kraken2_report/kraken2_report_{/.}.txt \\\n",
    "    --output /homes/ieineke/metagenomicssalinitystress/kraken2_16S/kraken2_output/kraken2_output_{/.}.txt {}'`\n",
    "\n",
    "En voor WGS: \\\n",
    "`find /students/2024-2025/Thema07/metagenomics/zoutstress/data/WGS/ -name '*rep*.fastq' | \\\n",
    "    parallel 'kraken2 --db /data/datasets/KRAKEN2_INDEX/k2_pluspfp --threads 8 --use-names \\\n",
    "    --report /homes/ieineke/metagenomicssalinitystress/kraken2_WGS/kraken2_report/kraken2_report_{/.}.txt \\\n",
    "    --output /homes/ieineke/metagenomicssalinitystress/kraken2_WGS/kraken2_output/kraken2_output_{/.}.txt {}'`\n",
    "\n",
    "`{/.}` : neemt de bestandsnaam zonder het pad \\\n",
    "`{}` : hier worden alle door `find` gevonden bestanden ingevuld als input\n",
    "\n",
    "\n",
    "ze zijn beide uitgevoerd."
   ]
  },
  {
   "cell_type": "markdown",
   "metadata": {},
   "source": [
    "#### BRacken\n",
    "Eerst installeren: `conda install bioconda::bracken` \\\n",
    "\n",
    "`find /students/2024-2025/Thema07/metagenomics/zoutstress/outputs/kraken2/kraken2_16S/kraken2_report -name 'kraken2_report_*.txt' | \\\n",
    "    parallel 'bracken -d /data/datasets/KRAKEN2_INDEX/16S_Silva -i {} \\\n",
    "    -o /students/2024-2025/Thema07/metagenomics/zoutstress/outputs/bracken_op_kraken2/16S_bracken/bracken_output_{/.}.txt \\\n",
    "    -r 730 -l species -t 10'`\n",
    "\n",
    "`find /students/2024-2025/Thema07/metagenomics/zoutstress/outputs/kraken2/kraken2_WGS/kraken2_report -name 'kraken2_report_*.txt' | \\\n",
    "    parallel 'bracken -d /data/datasets/KRAKEN2_INDEX/k2_pluspfp -i {} \\\n",
    "    -o /students/2024-2025/Thema07/metagenomics/zoutstress/outputs/bracken_op_kraken2/WGS_bracken/bracken_output_{/.}.txt \\\n",
    "    -r 760 -l species -t 10'`\n",
    "\n",
    "\n",
    "Deze mogelijk later veranderen (r: reads, l:classification level, t: threshold): \\\n",
    "- -r 730 voor 16S en 760 voor WGS is gekozen op basis van de gemiddelde reads lengthes uit de nanorapporten \\\n",
    "(16S gem length reads: 736, 732.6, 630.4, 736.6)(WGS gem lenght reads: 1070.2, 761.7, 1002.8, 1108.0)\n",
    "- -l species is gekozen, omdat dit logisch is voor onderzoeksvraag: wat is het microbioom.\n",
    "- -t 10 is gekozen, omdat minion foutgevoelig is en een hoge threshold voorkomt (hopelijk) onbetrouwbare resulaten."
   ]
  },
  {
   "cell_type": "markdown",
   "metadata": {},
   "source": [
    "Een foutmelding geeft aan dat er eerst een kmer distribution file gemaakt moet worden met bracken-build: \\\n",
    "hiervoor is het handiger om een symlink te proberen te gebruiken, aangezien ik dan de output bij de database in de map kan plaatsten zonder dat medestudenten uit andere groepen hier last van hebben:\n",
    "voor 16S: `ln -s /data/datasets/KRAKEN2_INDEX/16S_Silva /students/2024-2025/Thema07/metagenomics/zoutstress/outputs/kraken2/kraken_db_symlink` \\\n",
    "voor WGS: `ln -s /data/datasets/KRAKEN2_INDEX/k2_pluspfp /students/2024-2025/Thema07/metagenomics/zoutstress/outputs/kraken2/kraken_db_symlink`\n",
    "\n",
    "dan nu bracken:\n",
    "voor 16S: `bracken-build -d /students/2024-2025/Thema07/metagenomics/zoutstress/outputs/kraken2/kraken_db_symlink/16S_Silva -l 730` \\\n",
    "voor WGS: `bracken-build -d /students/2024-2025/Thema07/metagenomics/zoutstress/outputs/kraken2/kraken_db_symlink/k2_pluspfp -l 760`\n",
    "\n",
    "We moeten de -l aanpassen, omdat we als hoogste kmer-bestand 250 reads hebben. niet ideaal, maar moet maar: \\\n",
    "bracken-build -d /students/2024-2025/Thema07/metagenomics/zoutstress/outputs/kraken2/kraken_db_symlink/16S_Silva/database250mers.kmer_distrib -l 250\n",
    "\n",
    "FOUTMELDING, lukt me niet om deze op te lossen: \\\n",
    "***ERROR: Database library /students/2024-2025/Thema07/metagenomics/zoutstress/outputs/kraken2/kraken_db_symlink/16S_Silva/library does not exist***"
   ]
  },
  {
   "cell_type": "markdown",
   "metadata": {},
   "source": [
    "### 18 mrt\n",
    "Vandaag is opgezocht welke minimum qualiry score voor de minion data moet worden ingesteld voor de trimming. \\\n",
    "Na [onderzoek](https://academic.oup.com/bioinformatics/article/35/3/523/5057155?login=false) blijkt dat 7 een goede waarde is die nog voldoende data en voldoende nauwkerigheid behoudt.\n",
    "\n",
    "\n",
    "Ook vroeg Ramon \n"
   ]
  }
 ],
 "metadata": {
  "kernelspec": {
   "display_name": "usr",
   "language": "python",
   "name": "python3"
  },
  "language_info": {
   "name": "python",
   "version": "3.11.2"
  }
 },
 "nbformat": 4,
 "nbformat_minor": 2
}
