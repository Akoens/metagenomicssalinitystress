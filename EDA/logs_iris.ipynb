{
 "cells": [
  {
   "cell_type": "markdown",
   "metadata": {},
   "source": [
    "### 5 mrt\n",
    "Uitgezocht welke tool we moeten gebruiken om quality controle uit te voeren op de minion data. Fastqc schijnt niet goed te werken op minion data, dus we gaan Nanoplot gebruiken. deze is te installeren via conda: `conda install -c bioconda nanoplot`"
   ]
  }
 ],
 "metadata": {
  "language_info": {
   "name": "python"
  }
 },
 "nbformat": 4,
 "nbformat_minor": 2
}
