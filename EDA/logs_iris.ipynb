{
 "cells": [
  {
   "cell_type": "markdown",
   "metadata": {},
   "source": [
    "### 5 mrt\n",
    "Uitgezocht welke tool we moeten gebruiken om quality controle uit te voeren op de minion data. Fastqc schijnt niet goed te werken op minion data, dus we gaan Nanoplot gebruiken. deze is te installeren via conda: `conda install -c bioconda nanoplot`\n",
    "\n",
    "!To do:\n",
    "- data verkennen\n",
    "- inlezen nanoplot"
   ]
  },
  {
   "cell_type": "markdown",
   "metadata": {},
   "source": [
    "### 11 mrt\n",
    "Martijn heeft uitgelegd wat de bedoeling nu is. We gaan alle drie een andere tool (ik zoek kraken2 uit) gebruiken om het bicrobioom te bepalen en de resultaten daarvan vervolgens met elkaar vergelijken."
   ]
  },
  {
   "cell_type": "markdown",
   "metadata": {},
   "source": [
    "## 12 mrt\n",
    "kraen2 installeren in conda: `conda install -c bioconda kraken2`\n",
    "database uitzoeken: \\\n",
    "16S_Greengenes: [Archaea and Bacteria](https://pmc.ncbi.nlm.nih.gov/articles/PMC1489311/) \\\n",
    "16S silvia: [Bacteria, Archaea and Eukarya](https://www.arb-silva.de/)\n",
    "\n",
    "16S lijkt uitgebreider, dus deze gaan we gebruiken.\n",
    "\n",
    "commando: \\\n",
    "kraken2 : start kraken2 \\\n",
    "--db /data/datasets/16S_Silva : de database die we gebruiken \\\n",
    "--threads 8 : threads \\\n",
    "--report kraken2_report.txt : samenvatting rapport \\\n",
    "--output kraken2_output.txt : de output per read \\\n",
    "/commons/Themas/Thema07/metagenomics/zoutstress/16S/.. : input (seq data)\n",
    "\n",
    "de input moet via een loop ingevuld worden: \\\n",
    "de mappen zijn: \\\n",
    "zoet_20_30cm_rep1  zoet_20_30cm_rep2  zout_20_30cm_rep1  zout_20_30cm_rep2 \\\n",
    "met daarin: \\ \n",
    "FAY08769_pass_barcode07_85e26567_1cef8301_N.fastq.gz (waarin N een int is)\n",
    "\n",
    "Maar omdat ze overlappingen hebben moeten ze in aparte mappen blijven.\n",
    "\n",
    "Dus per map uitvoeren. acc_list.txt maken daarvoor."
   ]
  },
  {
   "cell_type": "code",
   "execution_count": null,
   "metadata": {
    "vscode": {
     "languageId": "plaintext"
    }
   },
   "outputs": [],
   "source": []
  }
 ],
 "metadata": {
  "language_info": {
   "name": "python"
  }
 },
 "nbformat": 4,
 "nbformat_minor": 2
}
